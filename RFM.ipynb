{
 "cells": [
  {
   "cell_type": "code",
   "execution_count": 177,
   "id": "93f2416e-86c3-468f-a76d-838db1a12067",
   "metadata": {},
   "outputs": [],
   "source": [
    "import pandas as pd\n",
    "from datetime import timedelta\n",
    "import matplotlib.pyplot as plt"
   ]
  },
  {
   "cell_type": "code",
   "execution_count": 221,
   "id": "71b92c22-7ae8-4726-ba08-0f93d113f2b9",
   "metadata": {},
   "outputs": [],
   "source": [
    "# Chargement des données\n",
    "df = pd.read_csv(\"ecommerce_nettoye.csv\", encoding=\"ISO-8859-1\")"
   ]
  },
  {
   "cell_type": "code",
   "execution_count": 222,
   "id": "a770e821-a6b5-490b-a8c8-6c38ee5e7112",
   "metadata": {},
   "outputs": [
    {
     "data": {
      "text/plain": [
       "Index(['InvoiceNo', 'StockCode', 'Description', 'Quantity', 'InvoiceDate',\n",
       "       'UnitPrice', 'CustomerID', 'Country'],\n",
       "      dtype='object')"
      ]
     },
     "execution_count": 222,
     "metadata": {},
     "output_type": "execute_result"
    }
   ],
   "source": [
    "df.columns"
   ]
  },
  {
   "cell_type": "markdown",
   "id": "2c99132c-4795-42bb-8d2e-9c9bf58dceb2",
   "metadata": {},
   "source": [
    "|Variables| Descriptions\n",
    "|:--|:--|\n",
    "|**InvoiceNo** | *Numéro de la facture.*|\n",
    "|**StockCode** | *Code de l'article .*|\n",
    "|**Description** | *Description ou nom de l'article.*|\n",
    "|**Quantity** | *Quantité de chaque article.*|\n",
    "|**InvoiceDate** | *Date et heure de la facture.*|\n",
    "|**UnitPrice** | *Prix unitaire de larticleNuméro d'identification d'indenti*|\n",
    "|**CustomerID** | *Bumero d'identifcation*|\n",
    "|**Country** |*Pays où le client reside*|"
   ]
  },
  {
   "cell_type": "code",
   "execution_count": 202,
   "id": "f167337e-4e4a-4370-a112-b263bf6169a2",
   "metadata": {},
   "outputs": [
    {
     "name": "stdout",
     "output_type": "stream",
     "text": [
      "Orders from 2010-12-01 08:26:00 to 2011-12-09 12:50:00\n"
     ]
    }
   ],
   "source": [
    "print('Orders from {} to {}'.format(df['InvoiceDate'].min(),\n",
    "                                    df['InvoiceDate'].max()))\n"
   ]
  },
  {
   "cell_type": "markdown",
   "id": "0d65cfb9-6d8b-4973-9705-0233bc1a6b71",
   "metadata": {},
   "source": [
    "Nous disposons d'environ un an de données de ventes (de décembre 2010 à décembre 2011). C'est la période généralement utilisée pour l'analyse RFM."
   ]
  },
  {
   "cell_type": "code",
   "execution_count": 223,
   "id": "465c3390-9d80-4475-a6de-195152207331",
   "metadata": {},
   "outputs": [],
   "source": [
    "# Conversion de la date\n",
    "df['InvoiceDate'] = pd.to_datetime(df['InvoiceDate'])"
   ]
  },
  {
   "cell_type": "code",
   "execution_count": 224,
   "id": "c1a27b19-c935-4767-b59a-c84d4a7fc6f0",
   "metadata": {},
   "outputs": [],
   "source": [
    "df['Mont_total'] = df['Quantity'] * df['UnitPrice']"
   ]
  },
  {
   "cell_type": "code",
   "execution_count": 225,
   "id": "2901e1b4-7770-4c19-9b4a-79f207e73476",
   "metadata": {},
   "outputs": [],
   "source": [
    "df['InvoiceNo'].value_counts().head()\n",
    "\n",
    "# Date de référence pour le calcul de la récence\n",
    "date_ref = df['InvoiceDate'].max() + timedelta(days=1)\n",
    "\n",
    "# Calcul des composantes RFM\n",
    "rfm = df.groupby('CustomerID').agg({\n",
    "    'InvoiceDate': lambda x: (date_ref - x.max()).days,\n",
    "    'InvoiceNo': 'nunique',\n",
    "    'Mont_total': 'sum'\n",
    "}).reset_index()\n",
    "\n",
    "rfm.columns = ['CustomerID', 'Recence', 'Frequence', 'Montant']\n"
   ]
  },
  {
   "cell_type": "code",
   "execution_count": 226,
   "id": "8e112c6c-cd58-4703-b7f9-5d99c8abe06d",
   "metadata": {},
   "outputs": [
    {
     "data": {
      "text/html": [
       "<div>\n",
       "<style scoped>\n",
       "    .dataframe tbody tr th:only-of-type {\n",
       "        vertical-align: middle;\n",
       "    }\n",
       "\n",
       "    .dataframe tbody tr th {\n",
       "        vertical-align: top;\n",
       "    }\n",
       "\n",
       "    .dataframe thead th {\n",
       "        text-align: right;\n",
       "    }\n",
       "</style>\n",
       "<table border=\"1\" class=\"dataframe\">\n",
       "  <thead>\n",
       "    <tr style=\"text-align: right;\">\n",
       "      <th></th>\n",
       "      <th>InvoiceNo</th>\n",
       "      <th>InvoiceDate</th>\n",
       "      <th>CustomerID</th>\n",
       "      <th>Mont_total</th>\n",
       "    </tr>\n",
       "  </thead>\n",
       "  <tbody>\n",
       "    <tr>\n",
       "      <th>0</th>\n",
       "      <td>536365</td>\n",
       "      <td>2010-12-01 08:26:00</td>\n",
       "      <td>17850.0</td>\n",
       "      <td>139.12</td>\n",
       "    </tr>\n",
       "    <tr>\n",
       "      <th>1</th>\n",
       "      <td>536366</td>\n",
       "      <td>2010-12-01 08:28:00</td>\n",
       "      <td>17850.0</td>\n",
       "      <td>22.20</td>\n",
       "    </tr>\n",
       "    <tr>\n",
       "      <th>2</th>\n",
       "      <td>536367</td>\n",
       "      <td>2010-12-01 08:34:00</td>\n",
       "      <td>13047.0</td>\n",
       "      <td>278.73</td>\n",
       "    </tr>\n",
       "    <tr>\n",
       "      <th>3</th>\n",
       "      <td>536368</td>\n",
       "      <td>2010-12-01 08:34:00</td>\n",
       "      <td>13047.0</td>\n",
       "      <td>70.05</td>\n",
       "    </tr>\n",
       "    <tr>\n",
       "      <th>4</th>\n",
       "      <td>536369</td>\n",
       "      <td>2010-12-01 08:35:00</td>\n",
       "      <td>13047.0</td>\n",
       "      <td>17.85</td>\n",
       "    </tr>\n",
       "  </tbody>\n",
       "</table>\n",
       "</div>"
      ],
      "text/plain": [
       "  InvoiceNo         InvoiceDate  CustomerID  Mont_total\n",
       "0    536365 2010-12-01 08:26:00     17850.0      139.12\n",
       "1    536366 2010-12-01 08:28:00     17850.0       22.20\n",
       "2    536367 2010-12-01 08:34:00     13047.0      278.73\n",
       "3    536368 2010-12-01 08:34:00     13047.0       70.05\n",
       "4    536369 2010-12-01 08:35:00     13047.0       17.85"
      ]
     },
     "execution_count": 226,
     "metadata": {},
     "output_type": "execute_result"
    }
   ],
   "source": [
    "# Agrégation des commandes par client :\n",
    "orders = df.groupby(['InvoiceNo', 'InvoiceDate', 'CustomerID']).agg({'Mont_total': lambda x: x.sum()}).reset_index()\n",
    "orders.head()"
   ]
  },
  {
   "cell_type": "code",
   "execution_count": 227,
   "id": "04560897-809c-43bc-abc5-01dbd127ac31",
   "metadata": {},
   "outputs": [
    {
     "data": {
      "text/plain": [
       "Timestamp('2011-12-10 12:50:00')"
      ]
     },
     "execution_count": 227,
     "metadata": {},
     "output_type": "execute_result"
    }
   ],
   "source": [
    "# Date de référence pour le calcul de la récence\n",
    "data_analys = orders['InvoiceDate'].max() + timedelta(days=1)\n",
    "data_analys"
   ]
  },
  {
   "cell_type": "code",
   "execution_count": 228,
   "id": "1eed8e17-ab1b-420e-9b5b-740037e8b3d5",
   "metadata": {},
   "outputs": [
    {
     "data": {
      "text/plain": [
       "Timedelta('373 days 04:24:00')"
      ]
     },
     "execution_count": 228,
     "metadata": {},
     "output_type": "execute_result"
    }
   ],
   "source": [
    "period=orders['InvoiceDate'].max()-orders['InvoiceDate'].min()\n",
    "period"
   ]
  },
  {
   "cell_type": "code",
   "execution_count": 229,
   "id": "1e98fc11-1e67-4a55-9468-5113227b4a1e",
   "metadata": {},
   "outputs": [],
   "source": [
    "# Calcul des données RFM\n",
    "\n",
    "rfm = df.groupby('CustomerID').agg({\n",
    "    'InvoiceDate': lambda x: (data_analys - x.max()).days,   \n",
    "    'InvoiceNo': 'nunique',                                     \n",
    "    'Mont_total': 'sum'                                         \n",
    "}).reset_index()\n",
    "\n",
    "rfm.columns = ['CustomerID', 'Recence', 'Frequence', 'Montant']\n"
   ]
  },
  {
   "cell_type": "code",
   "execution_count": 230,
   "id": "795b6d02-768c-4812-90d7-1429ffe63de4",
   "metadata": {},
   "outputs": [
    {
     "data": {
      "text/html": [
       "<div>\n",
       "<style scoped>\n",
       "    .dataframe tbody tr th:only-of-type {\n",
       "        vertical-align: middle;\n",
       "    }\n",
       "\n",
       "    .dataframe tbody tr th {\n",
       "        vertical-align: top;\n",
       "    }\n",
       "\n",
       "    .dataframe thead th {\n",
       "        text-align: right;\n",
       "    }\n",
       "</style>\n",
       "<table border=\"1\" class=\"dataframe\">\n",
       "  <thead>\n",
       "    <tr style=\"text-align: right;\">\n",
       "      <th></th>\n",
       "      <th>InvoiceNo</th>\n",
       "      <th>InvoiceDate</th>\n",
       "      <th>CustomerID</th>\n",
       "      <th>Mont_total</th>\n",
       "      <th>recences_calcul</th>\n",
       "    </tr>\n",
       "  </thead>\n",
       "  <tbody>\n",
       "    <tr>\n",
       "      <th>0</th>\n",
       "      <td>536365</td>\n",
       "      <td>2010-12-01 08:26:00</td>\n",
       "      <td>17850.0</td>\n",
       "      <td>139.12</td>\n",
       "      <td>374</td>\n",
       "    </tr>\n",
       "    <tr>\n",
       "      <th>1</th>\n",
       "      <td>536366</td>\n",
       "      <td>2010-12-01 08:28:00</td>\n",
       "      <td>17850.0</td>\n",
       "      <td>22.20</td>\n",
       "      <td>374</td>\n",
       "    </tr>\n",
       "    <tr>\n",
       "      <th>2</th>\n",
       "      <td>536367</td>\n",
       "      <td>2010-12-01 08:34:00</td>\n",
       "      <td>13047.0</td>\n",
       "      <td>278.73</td>\n",
       "      <td>374</td>\n",
       "    </tr>\n",
       "    <tr>\n",
       "      <th>3</th>\n",
       "      <td>536368</td>\n",
       "      <td>2010-12-01 08:34:00</td>\n",
       "      <td>13047.0</td>\n",
       "      <td>70.05</td>\n",
       "      <td>374</td>\n",
       "    </tr>\n",
       "    <tr>\n",
       "      <th>4</th>\n",
       "      <td>536369</td>\n",
       "      <td>2010-12-01 08:35:00</td>\n",
       "      <td>13047.0</td>\n",
       "      <td>17.85</td>\n",
       "      <td>374</td>\n",
       "    </tr>\n",
       "  </tbody>\n",
       "</table>\n",
       "</div>"
      ],
      "text/plain": [
       "  InvoiceNo         InvoiceDate  CustomerID  Mont_total  recences_calcul\n",
       "0    536365 2010-12-01 08:26:00     17850.0      139.12              374\n",
       "1    536366 2010-12-01 08:28:00     17850.0       22.20              374\n",
       "2    536367 2010-12-01 08:34:00     13047.0      278.73              374\n",
       "3    536368 2010-12-01 08:34:00     13047.0       70.05              374\n",
       "4    536369 2010-12-01 08:35:00     13047.0       17.85              374"
      ]
     },
     "execution_count": 230,
     "metadata": {},
     "output_type": "execute_result"
    }
   ],
   "source": [
    "## Calcul de la recence\n",
    "orders['recences_calcul']=orders['InvoiceDate'].apply(lambda x: (data_analys-x).days)\n",
    "orders.head(5)"
   ]
  },
  {
   "cell_type": "code",
   "execution_count": 231,
   "id": "ba065833-54d8-441e-baf2-39c83fb0e6c9",
   "metadata": {},
   "outputs": [
    {
     "data": {
      "text/html": [
       "<div>\n",
       "<style scoped>\n",
       "    .dataframe tbody tr th:only-of-type {\n",
       "        vertical-align: middle;\n",
       "    }\n",
       "\n",
       "    .dataframe tbody tr th {\n",
       "        vertical-align: top;\n",
       "    }\n",
       "\n",
       "    .dataframe thead th {\n",
       "        text-align: right;\n",
       "    }\n",
       "</style>\n",
       "<table border=\"1\" class=\"dataframe\">\n",
       "  <thead>\n",
       "    <tr style=\"text-align: right;\">\n",
       "      <th></th>\n",
       "      <th>CustomerID</th>\n",
       "      <th>Recence</th>\n",
       "      <th>Frequence</th>\n",
       "      <th>Montant</th>\n",
       "      <th>R</th>\n",
       "      <th>F</th>\n",
       "      <th>M</th>\n",
       "      <th>RFM_Score</th>\n",
       "    </tr>\n",
       "  </thead>\n",
       "  <tbody>\n",
       "    <tr>\n",
       "      <th>0</th>\n",
       "      <td>12346.0</td>\n",
       "      <td>326</td>\n",
       "      <td>2</td>\n",
       "      <td>0.00</td>\n",
       "      <td>1</td>\n",
       "      <td>2</td>\n",
       "      <td>1</td>\n",
       "      <td>121</td>\n",
       "    </tr>\n",
       "    <tr>\n",
       "      <th>1</th>\n",
       "      <td>12347.0</td>\n",
       "      <td>2</td>\n",
       "      <td>7</td>\n",
       "      <td>4310.00</td>\n",
       "      <td>4</td>\n",
       "      <td>4</td>\n",
       "      <td>4</td>\n",
       "      <td>444</td>\n",
       "    </tr>\n",
       "    <tr>\n",
       "      <th>2</th>\n",
       "      <td>12348.0</td>\n",
       "      <td>75</td>\n",
       "      <td>4</td>\n",
       "      <td>1797.24</td>\n",
       "      <td>2</td>\n",
       "      <td>3</td>\n",
       "      <td>4</td>\n",
       "      <td>234</td>\n",
       "    </tr>\n",
       "    <tr>\n",
       "      <th>3</th>\n",
       "      <td>12349.0</td>\n",
       "      <td>19</td>\n",
       "      <td>1</td>\n",
       "      <td>1757.55</td>\n",
       "      <td>3</td>\n",
       "      <td>1</td>\n",
       "      <td>4</td>\n",
       "      <td>314</td>\n",
       "    </tr>\n",
       "    <tr>\n",
       "      <th>4</th>\n",
       "      <td>12350.0</td>\n",
       "      <td>310</td>\n",
       "      <td>1</td>\n",
       "      <td>334.40</td>\n",
       "      <td>1</td>\n",
       "      <td>1</td>\n",
       "      <td>2</td>\n",
       "      <td>112</td>\n",
       "    </tr>\n",
       "    <tr>\n",
       "      <th>5</th>\n",
       "      <td>12352.0</td>\n",
       "      <td>36</td>\n",
       "      <td>11</td>\n",
       "      <td>1545.41</td>\n",
       "      <td>3</td>\n",
       "      <td>4</td>\n",
       "      <td>3</td>\n",
       "      <td>343</td>\n",
       "    </tr>\n",
       "    <tr>\n",
       "      <th>6</th>\n",
       "      <td>12353.0</td>\n",
       "      <td>204</td>\n",
       "      <td>1</td>\n",
       "      <td>89.00</td>\n",
       "      <td>1</td>\n",
       "      <td>1</td>\n",
       "      <td>1</td>\n",
       "      <td>111</td>\n",
       "    </tr>\n",
       "    <tr>\n",
       "      <th>7</th>\n",
       "      <td>12354.0</td>\n",
       "      <td>232</td>\n",
       "      <td>1</td>\n",
       "      <td>1079.40</td>\n",
       "      <td>1</td>\n",
       "      <td>1</td>\n",
       "      <td>3</td>\n",
       "      <td>113</td>\n",
       "    </tr>\n",
       "    <tr>\n",
       "      <th>8</th>\n",
       "      <td>12355.0</td>\n",
       "      <td>214</td>\n",
       "      <td>1</td>\n",
       "      <td>459.40</td>\n",
       "      <td>1</td>\n",
       "      <td>1</td>\n",
       "      <td>2</td>\n",
       "      <td>112</td>\n",
       "    </tr>\n",
       "    <tr>\n",
       "      <th>9</th>\n",
       "      <td>12356.0</td>\n",
       "      <td>23</td>\n",
       "      <td>3</td>\n",
       "      <td>2811.43</td>\n",
       "      <td>3</td>\n",
       "      <td>2</td>\n",
       "      <td>4</td>\n",
       "      <td>324</td>\n",
       "    </tr>\n",
       "  </tbody>\n",
       "</table>\n",
       "</div>"
      ],
      "text/plain": [
       "   CustomerID  Recence  Frequence  Montant  R  F  M RFM_Score\n",
       "0     12346.0      326          2     0.00  1  2  1       121\n",
       "1     12347.0        2          7  4310.00  4  4  4       444\n",
       "2     12348.0       75          4  1797.24  2  3  4       234\n",
       "3     12349.0       19          1  1757.55  3  1  4       314\n",
       "4     12350.0      310          1   334.40  1  1  2       112\n",
       "5     12352.0       36         11  1545.41  3  4  3       343\n",
       "6     12353.0      204          1    89.00  1  1  1       111\n",
       "7     12354.0      232          1  1079.40  1  1  3       113\n",
       "8     12355.0      214          1   459.40  1  1  2       112\n",
       "9     12356.0       23          3  2811.43  3  2  4       324"
      ]
     },
     "execution_count": 231,
     "metadata": {},
     "output_type": "execute_result"
    }
   ],
   "source": [
    "# Calcul des quartiles\n",
    "quantiles = rfm[['Recence', 'Frequence', 'Montant']].quantile([0.25, 0.5, 0.75])\n",
    "quantiles = quantiles.to_dict()\n",
    "\n",
    "# Fonctions de scoring\n",
    "def r_score(x):\n",
    "    if x <= quantiles['Recence'][0.25]:\n",
    "        return 4\n",
    "    elif x <= quantiles['Recence'][0.5]:\n",
    "        return 3\n",
    "    elif x <= quantiles['Recence'][0.75]:\n",
    "        return 2\n",
    "    else:\n",
    "        return 1\n",
    "\n",
    "def fm_score(x, var):\n",
    "    if x <= quantiles[var][0.25]:\n",
    "        return 1\n",
    "    elif x <= quantiles[var][0.5]:\n",
    "        return 2\n",
    "    elif x <= quantiles[var][0.75]:\n",
    "        return 3\n",
    "    else:\n",
    "        return 4\n",
    "\n",
    "# Application des scores\n",
    "rfm['R'] = rfm['Recence'].apply(r_score)\n",
    "rfm['F'] = rfm['Frequence'].apply(lambda x: fm_score(x, 'Frequence'))\n",
    "rfm['M'] = rfm['Montant'].apply(lambda x: fm_score(x, 'Montant'))\n",
    "rfm['RFM_Score'] = rfm['R'].map(str) + rfm['F'].map(str) + rfm['M'].map(str)\n",
    "rfm.head(10)\n",
    "\n"
   ]
  },
  {
   "cell_type": "code",
   "execution_count": 232,
   "id": "a4e5fb7e-f7e8-4a18-90fd-97926b90c250",
   "metadata": {},
   "outputs": [],
   "source": [
    "#  Proposition de contrat de maintenance par segment\n",
    "contrat = {\n",
    "    r'[1-2][1-2]': 'en hibernation',\n",
    "    r'[1-2][3-4]': 'à risque',\n",
    "    r'[1-2]5': 'à ne pas perdre',\n",
    "    r'3[1-2]': 'sur le point de dormir',\n",
    "    r'33': 'nécessite de l\\'attention',\n",
    "    r'[3-4][4-5]': 'clients fidèles',\n",
    "    r'41': 'prometteurs',\n",
    "    r'51': 'nouveaux clients',\n",
    "    r'[4-5][2-3]': 'clients potentiellement fidèles',\n",
    "    r'5[4-5]': 'champions'\n",
    "}\n",
    "\n"
   ]
  },
  {
   "cell_type": "code",
   "execution_count": 233,
   "id": "863167f8-2d78-465c-b10a-fed3a25a7c54",
   "metadata": {},
   "outputs": [
    {
     "data": {
      "text/html": [
       "<div>\n",
       "<style scoped>\n",
       "    .dataframe tbody tr th:only-of-type {\n",
       "        vertical-align: middle;\n",
       "    }\n",
       "\n",
       "    .dataframe tbody tr th {\n",
       "        vertical-align: top;\n",
       "    }\n",
       "\n",
       "    .dataframe thead th {\n",
       "        text-align: right;\n",
       "    }\n",
       "</style>\n",
       "<table border=\"1\" class=\"dataframe\">\n",
       "  <thead>\n",
       "    <tr style=\"text-align: right;\">\n",
       "      <th></th>\n",
       "      <th>CustomerID</th>\n",
       "      <th>Recence</th>\n",
       "      <th>Frequence</th>\n",
       "      <th>Montant</th>\n",
       "      <th>R</th>\n",
       "      <th>F</th>\n",
       "      <th>M</th>\n",
       "      <th>RFM_Score</th>\n",
       "      <th>Segment</th>\n",
       "    </tr>\n",
       "  </thead>\n",
       "  <tbody>\n",
       "    <tr>\n",
       "      <th>0</th>\n",
       "      <td>12346.0</td>\n",
       "      <td>326</td>\n",
       "      <td>2</td>\n",
       "      <td>0.00</td>\n",
       "      <td>1</td>\n",
       "      <td>2</td>\n",
       "      <td>1</td>\n",
       "      <td>121</td>\n",
       "      <td>en hibernation</td>\n",
       "    </tr>\n",
       "    <tr>\n",
       "      <th>1</th>\n",
       "      <td>12347.0</td>\n",
       "      <td>2</td>\n",
       "      <td>7</td>\n",
       "      <td>4310.00</td>\n",
       "      <td>4</td>\n",
       "      <td>4</td>\n",
       "      <td>4</td>\n",
       "      <td>444</td>\n",
       "      <td>clients fidèles</td>\n",
       "    </tr>\n",
       "    <tr>\n",
       "      <th>2</th>\n",
       "      <td>12348.0</td>\n",
       "      <td>75</td>\n",
       "      <td>4</td>\n",
       "      <td>1797.24</td>\n",
       "      <td>2</td>\n",
       "      <td>3</td>\n",
       "      <td>4</td>\n",
       "      <td>234</td>\n",
       "      <td>à risque</td>\n",
       "    </tr>\n",
       "    <tr>\n",
       "      <th>3</th>\n",
       "      <td>12349.0</td>\n",
       "      <td>19</td>\n",
       "      <td>1</td>\n",
       "      <td>1757.55</td>\n",
       "      <td>3</td>\n",
       "      <td>1</td>\n",
       "      <td>4</td>\n",
       "      <td>314</td>\n",
       "      <td>sur le point de dormir</td>\n",
       "    </tr>\n",
       "    <tr>\n",
       "      <th>4</th>\n",
       "      <td>12350.0</td>\n",
       "      <td>310</td>\n",
       "      <td>1</td>\n",
       "      <td>334.40</td>\n",
       "      <td>1</td>\n",
       "      <td>1</td>\n",
       "      <td>2</td>\n",
       "      <td>112</td>\n",
       "      <td>en hibernation</td>\n",
       "    </tr>\n",
       "    <tr>\n",
       "      <th>5</th>\n",
       "      <td>12352.0</td>\n",
       "      <td>36</td>\n",
       "      <td>11</td>\n",
       "      <td>1545.41</td>\n",
       "      <td>3</td>\n",
       "      <td>4</td>\n",
       "      <td>3</td>\n",
       "      <td>343</td>\n",
       "      <td>clients fidèles</td>\n",
       "    </tr>\n",
       "    <tr>\n",
       "      <th>6</th>\n",
       "      <td>12353.0</td>\n",
       "      <td>204</td>\n",
       "      <td>1</td>\n",
       "      <td>89.00</td>\n",
       "      <td>1</td>\n",
       "      <td>1</td>\n",
       "      <td>1</td>\n",
       "      <td>111</td>\n",
       "      <td>en hibernation</td>\n",
       "    </tr>\n",
       "    <tr>\n",
       "      <th>7</th>\n",
       "      <td>12354.0</td>\n",
       "      <td>232</td>\n",
       "      <td>1</td>\n",
       "      <td>1079.40</td>\n",
       "      <td>1</td>\n",
       "      <td>1</td>\n",
       "      <td>3</td>\n",
       "      <td>113</td>\n",
       "      <td>en hibernation</td>\n",
       "    </tr>\n",
       "    <tr>\n",
       "      <th>8</th>\n",
       "      <td>12355.0</td>\n",
       "      <td>214</td>\n",
       "      <td>1</td>\n",
       "      <td>459.40</td>\n",
       "      <td>1</td>\n",
       "      <td>1</td>\n",
       "      <td>2</td>\n",
       "      <td>112</td>\n",
       "      <td>en hibernation</td>\n",
       "    </tr>\n",
       "    <tr>\n",
       "      <th>9</th>\n",
       "      <td>12356.0</td>\n",
       "      <td>23</td>\n",
       "      <td>3</td>\n",
       "      <td>2811.43</td>\n",
       "      <td>3</td>\n",
       "      <td>2</td>\n",
       "      <td>4</td>\n",
       "      <td>324</td>\n",
       "      <td>sur le point de dormir</td>\n",
       "    </tr>\n",
       "  </tbody>\n",
       "</table>\n",
       "</div>"
      ],
      "text/plain": [
       "   CustomerID  Recence  Frequence  Montant  R  F  M RFM_Score  \\\n",
       "0     12346.0      326          2     0.00  1  2  1       121   \n",
       "1     12347.0        2          7  4310.00  4  4  4       444   \n",
       "2     12348.0       75          4  1797.24  2  3  4       234   \n",
       "3     12349.0       19          1  1757.55  3  1  4       314   \n",
       "4     12350.0      310          1   334.40  1  1  2       112   \n",
       "5     12352.0       36         11  1545.41  3  4  3       343   \n",
       "6     12353.0      204          1    89.00  1  1  1       111   \n",
       "7     12354.0      232          1  1079.40  1  1  3       113   \n",
       "8     12355.0      214          1   459.40  1  1  2       112   \n",
       "9     12356.0       23          3  2811.43  3  2  4       324   \n",
       "\n",
       "                  Segment  \n",
       "0          en hibernation  \n",
       "1         clients fidèles  \n",
       "2                à risque  \n",
       "3  sur le point de dormir  \n",
       "4          en hibernation  \n",
       "5         clients fidèles  \n",
       "6          en hibernation  \n",
       "7          en hibernation  \n",
       "8          en hibernation  \n",
       "9  sur le point de dormir  "
      ]
     },
     "execution_count": 233,
     "metadata": {},
     "output_type": "execute_result"
    }
   ],
   "source": [
    "rfm['Segment'] = rfm['R'].map(str) + rfm['F'].map(str)\n",
    "rfm['Segment'] = rfm['Segment'].replace(contrat, regex=True)\n",
    "rfm.head(10)\n"
   ]
  },
  {
   "cell_type": "markdown",
   "id": "64c0c33f-a899-4dcf-96a2-81452952724e",
   "metadata": {},
   "source": [
    "| Segment                               | Description                                                                                     |\n",
    "| ----------------------------------- | ----------------------------------------------------------------------------------------------- |\n",
    "| **Champions**                       | Clients les plus récents, fidèles et avec des achats fréquents. Ce sont vos meilleurs clients ! |\n",
    "| **Clients potentiellement fidèles** | Clients ayant un bon historique récent et une fréquence moyenne. Ils peuvent devenir champions. |\n",
    "| **Nouveaux clients**                | Clients récents mais encore peu fidèles. À accueillir et engager rapidement.                    |\n",
    "| **Prometteurs**                     | Clients récents avec peu d’achats. Montrez-leur plus de valeur pour les fidéliser.              |\n",
    "| **Clients fidèles**                 | Achètent souvent, mais pas nécessairement récemment. Très engagés.                              |\n",
    "| **Nécessite de l'attention**        | Clients modérés en fréquence et récence. À surveiller pour éviter qu’ils ne partent.            |\n",
    "| **Sur le point de dormir**          | Clients achetaient régulièrement mais ont ralenti. Une relance pourrait aider.                  |\n",
    "| **À ne pas perdre**                 | Clients très fidèles auparavant mais récents achats faibles. À relancer rapidement.             |\n",
    "| **À risque**                        | Clients qui étaient bons mais qui n’ont pas acheté depuis longtemps. À réactiver.               |\n",
    "| **En hibernation**                  | Clients anciens avec très peu d’activité. Peu d'engagement actuel.                              |\n"
   ]
  },
  {
   "cell_type": "code",
   "execution_count": 234,
   "id": "30c65c92-e8d2-4f22-acb5-5a2e6a49a09e",
   "metadata": {},
   "outputs": [
    {
     "data": {
      "image/png": "[encoded data removed]",
      "text/plain": [
       "<Figure size 1200x800 with 1 Axes>"
      ]
     },
     "metadata": {},
     "output_type": "display_data"
    }
   ],
   "source": [
    "import matplotlib.pyplot as plt\n",
    "import squarify\n",
    "import pandas as pd\n",
    "\n",
    "# Compter le nombre de clients par segment\n",
    "segment_counts = rfm['Segment'].value_counts().reset_index()\n",
    "segment_counts.columns = ['Segment', 'Nombre']\n",
    "\n",
    "# Couleurs personnalisées \n",
    "colors = ['#f94144', '#f3722c', '#f9c74f', '#90be6d', '#43aa8b',\n",
    "          '#577590', '#277da1', '#4d908e', '#f9844a', '#8ac926']\n",
    "\n",
    "plt.figure(figsize=(12, 8))\n",
    "squarify.plot(sizes=segment_counts['Nombre'],\n",
    "              label=segment_counts['Segment'],\n",
    "              color=colors,\n",
    "              alpha=.9,\n",
    "              text_kwargs={'fontsize': 12, 'weight': 'bold'})\n",
    "\n",
    "plt.title(\"Segmentation RFM \", fontsize=16)\n",
    "plt.axis('off')  \n",
    "plt.show()\n"
   ]
  },
  {
   "cell_type": "code",
   "execution_count": 235,
   "id": "fc267cca-44d8-4be1-8506-38a224943def",
   "metadata": {},
   "outputs": [
    {
     "data": {
      "image/png": "[encoded data removed]",
      "text/plain": [
       "<Figure size 1000x400 with 2 Axes>"
      ]
     },
     "metadata": {},
     "output_type": "display_data"
    },
    {
     "data": {
      "image/png": "[encoded data removed]",
      "text/plain": [
       "<Figure size 1000x800 with 16 Axes>"
      ]
     },
     "metadata": {},
     "output_type": "display_data"
    }
   ],
   "source": [
    "# Tracer la distribution des clients par R et F\n",
    "fig, axes = plt.subplots(nrows=1, ncols=2, figsize=(10, 4))\n",
    "\n",
    "for i, p in enumerate(['R', 'F']):\n",
    "    parameters = {'R':'Récence', 'F':'Fréquence'}\n",
    "    y = rfm[p].value_counts().sort_index()\n",
    "    x = y.index\n",
    "    ax = axes[i]\n",
    "    bars = ax.bar(x, y, color='pink')\n",
    "    ax.set_frame_on(False)\n",
    "    ax.tick_params(left=False, labelleft=False, bottom=False)\n",
    "    ax.set_title('Distribution de la {}'.format(parameters[p]),\n",
    "                fontsize=14)\n",
    "    for bar in bars:\n",
    "        value = bar.get_height()\n",
    "        if value == y.max():\n",
    "            bar.set_color('firebrick')\n",
    "        ax.text(bar.get_x() + bar.get_width() / 2,\n",
    "                value - 5,\n",
    "                '{}\\n({}%)'.format(int(value), int(value * 100 / y.sum())),\n",
    "               ha='center',\n",
    "               va='top',\n",
    "               color='w')\n",
    "\n",
    "plt.show()\n",
    "\n",
    "# Tracer la distribution de M par score RF\n",
    "fig, axes = plt.subplots(nrows=4, ncols=4,\n",
    "                         sharex=False, sharey=True,\n",
    "                         figsize=(10, 8))\n",
    "\n",
    "r_range = range(1, 5)\n",
    "f_range = range(1, 5)\n",
    "\n",
    "for r in r_range:\n",
    "    for f in f_range:\n",
    "        y = rfm[(rfm['R'] == r) & (rfm['F'] == f)]['M'].value_counts().sort_index()\n",
    "        x = y.index\n",
    "        ax = axes[r - 1, f - 1]\n",
    "        bars = ax.bar(x, y, color='pink')\n",
    "        \n",
    "        if r == 4:\n",
    "            if f == 2:\n",
    "                ax.set_xlabel('{}\\nF (Fréquence)'.format(f), va='top')\n",
    "            else:\n",
    "                ax.set_xlabel('{}\\n'.format(f), va='top')\n",
    "                \n",
    "        if f == 1:\n",
    "            if r == 2:\n",
    "                ax.set_ylabel('R (Récence)\\n{}'.format(r))\n",
    "            else:\n",
    "                ax.set_ylabel(str(r))\n",
    "                \n",
    "        ax.set_frame_on(False)\n",
    "        ax.tick_params(left=False, labelleft=False, bottom=False)\n",
    "        ax.set_xticks(x)\n",
    "        ax.set_xticklabels(x, fontsize=8)\n",
    "\n",
    "        for bar in bars:\n",
    "            value = bar.get_height()\n",
    "            if value == y.max():\n",
    "                bar.set_color('firebrick')\n",
    "            ax.text(bar.get_x() + bar.get_width() / 2,\n",
    "                    value,\n",
    "                    int(value),\n",
    "                    ha='center',\n",
    "                    va='bottom',\n",
    "                    color='k')\n",
    "                    \n",
    "fig.suptitle('Distribution de M (Valeur Monétaire) par Fréquence et Récence',\n",
    "             fontsize=14)\n",
    "plt.tight_layout()\n",
    "plt.show()"
   ]
  },
  {
   "cell_type": "code",
   "execution_count": 236,
   "id": "c256a67d-4747-4365-9d6a-ff79b1aa0838",
   "metadata": {},
   "outputs": [
    {
     "data": {
      "image/png": "[encoded data removed]",
      "text/plain": [
       "<Figure size 1000x600 with 1 Axes>"
      ]
     },
     "metadata": {},
     "output_type": "display_data"
    }
   ],
   "source": [
    "import matplotlib.pyplot as plt\n",
    "\n",
    "# Compter le nombre de clients dans chaque segment\n",
    "segments_counts = rfm['Segment'].value_counts().sort_values()\n",
    "\n",
    "# Créer le graphique\n",
    "fig, ax = plt.subplots(figsize=(10, 6))\n",
    "bars = ax.barh(range(len(segments_counts)), segments_counts.values, color='skyblue')\n",
    "\n",
    "# Ajouter les noms de segments\n",
    "ax.set_yticks(range(len(segments_counts)))\n",
    "ax.set_yticklabels(segments_counts.index)\n",
    "\n",
    "# Ajouter les valeurs sur les barres\n",
    "for i, bar in enumerate(bars):\n",
    "    value = bar.get_width()\n",
    "    ax.text(value + 1, bar.get_y() + bar.get_height()/2,\n",
    "            f'{value:,} clients', va='center', fontsize=9)\n",
    "\n",
    "ax.set_title(\"Distribution des clients par segment RFM\")\n",
    "ax.set_xlabel(\"Nombre de clients\")\n",
    "plt.tight_layout()\n",
    "plt.show()\n"
   ]
  },
  {
   "cell_type": "code",
   "execution_count": 237,
   "id": "ab6eac3d-6b26-4721-b9b8-57de074ffc55",
   "metadata": {},
   "outputs": [
    {
     "data": {
      "image/png": "[encoded data removed]",
      "text/plain": [
       "<Figure size 800x600 with 2 Axes>"
      ]
     },
     "metadata": {},
     "output_type": "display_data"
    }
   ],
   "source": [
    "import seaborn as sns\n",
    "\n",
    "# Créer une matrice de fréquence R-F\n",
    "rf_matrix = rfm.groupby(['R', 'F']).size().unstack().fillna(0)\n",
    "\n",
    "# Tracer la heatmap\n",
    "plt.figure(figsize=(8, 6))\n",
    "sns.heatmap(rf_matrix, annot=True, fmt=\".0f\", cmap=\"YlGnBu\")\n",
    "plt.title(\"Heatmap Récence vs Fréquence\")\n",
    "plt.xlabel(\"Fréquence (F)\")\n",
    "plt.ylabel(\"Récence (R)\")\n",
    "plt.show()\n"
   ]
  },
  {
   "cell_type": "code",
   "execution_count": 238,
   "id": "29262f10-4dc7-48ea-85d5-9b7ee22f20d3",
   "metadata": {},
   "outputs": [
    {
     "name": "stdout",
     "output_type": "stream",
     "text": [
      " Fichier exporté sous le nom : RFM_segmenté.csv\n"
     ]
    }
   ],
   "source": [
    "# Sauvegarde dans un fichier CSV\n",
    "rfm.to_csv(\"RFM_segmenté.csv\", index=False)\n",
    "\n",
    "print(\" Fichier exporté sous le nom : RFM_segmenté.csv\")\n"
   ]
  },
  {
   "cell_type": "code",
   "execution_count": 239,
   "id": "197051ca-9c7c-4529-914a-b9c6cc674364",
   "metadata": {},
   "outputs": [
    {
     "name": "stdout",
     "output_type": "stream",
     "text": [
      "   CustomerID  Recence  Frequence  Montant  R  F  M RFM_Score  \\\n",
      "0     12346.0      326          2     0.00  1  2  1       121   \n",
      "1     12347.0        2          7  4310.00  4  4  4       444   \n",
      "2     12348.0       75          4  1797.24  2  3  4       234   \n",
      "3     12349.0       19          1  1757.55  3  1  4       314   \n",
      "4     12350.0      310          1   334.40  1  1  2       112   \n",
      "\n",
      "                  Segment  \n",
      "0          en hibernation  \n",
      "1         clients fidèles  \n",
      "2                à risque  \n",
      "3  sur le point de dormir  \n",
      "4          en hibernation  \n"
     ]
    }
   ],
   "source": [
    "# Affichage d’un échantillon des données RFM avec segmentation\n",
    "print(rfm.head())\n"
   ]
  },
  {
   "cell_type": "code",
   "execution_count": null,
   "id": "6adcfb6c-7386-4623-b024-5b81ca9b3858",
   "metadata": {},
   "outputs": [],
   "source": []
  },
  {
   "cell_type": "code",
   "execution_count": null,
   "id": "d5e130a1-bdd1-4cd5-bd77-300520011cb1",
   "metadata": {},
   "outputs": [],
   "source": []
  }
 ],
 "metadata": {
  "kernelspec": {
   "display_name": "ExamenDataMining",
   "language": "python",
   "name": "examendatamining"
  },
  "language_info": {
   "codemirror_mode": {
    "name": "ipython",
    "version": 3
   },
   "file_extension": ".py",
   "mimetype": "text/x-python",
   "name": "python",
   "nbconvert_exporter": "python",
   "pygments_lexer": "ipython3",
   "version": "3.12.9"
  }
 },
 "nbformat": 4,
 "nbformat_minor": 5
}
